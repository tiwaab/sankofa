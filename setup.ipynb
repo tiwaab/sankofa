{
 "cells": [
  {
   "cell_type": "markdown",
   "id": "c4933889",
   "metadata": {},
   "source": [
    "## Create ECS cluster\n",
    "- Persistent and doesn't need to be created again"
   ]
  },
  {
   "cell_type": "code",
   "execution_count": 2,
   "id": "473280c3",
   "metadata": {},
   "outputs": [],
   "source": [
    "import boto3"
   ]
  },
  {
   "cell_type": "code",
   "execution_count": 12,
   "id": "392dc40d",
   "metadata": {},
   "outputs": [
    {
     "data": {
      "text/plain": [
       "{'cluster': {'clusterArn': 'arn:aws:ecs:us-east-1:322793536920:cluster/book-digitization-cluster',\n",
       "  'clusterName': 'book-digitization-cluster',\n",
       "  'status': 'ACTIVE',\n",
       "  'registeredContainerInstancesCount': 0,\n",
       "  'runningTasksCount': 0,\n",
       "  'pendingTasksCount': 0,\n",
       "  'activeServicesCount': 0,\n",
       "  'statistics': [],\n",
       "  'tags': [],\n",
       "  'settings': [{'name': 'containerInsights', 'value': 'disabled'}],\n",
       "  'capacityProviders': [],\n",
       "  'defaultCapacityProviderStrategy': []},\n",
       " 'ResponseMetadata': {'RequestId': '9bbde54a-1ec4-4a6c-8404-b32d7cf17460',\n",
       "  'HTTPStatusCode': 200,\n",
       "  'HTTPHeaders': {'x-amzn-requestid': '9bbde54a-1ec4-4a6c-8404-b32d7cf17460',\n",
       "   'content-type': 'application/x-amz-json-1.1',\n",
       "   'content-length': '427',\n",
       "   'date': 'Sun, 01 Jun 2025 05:50:02 GMT'},\n",
       "  'RetryAttempts': 0}}"
      ]
     },
     "execution_count": 12,
     "metadata": {},
     "output_type": "execute_result"
    }
   ],
   "source": [
    "ecs = boto3.client('ecs')\n",
    "ecs.create_cluster(clusterName='book-digitization-cluster')"
   ]
  },
  {
   "cell_type": "markdown",
   "id": "497a1afa",
   "metadata": {},
   "source": [
    "## Create ECR repository\n",
    "- This is where my code is stored virtually"
   ]
  },
  {
   "cell_type": "code",
   "execution_count": 2,
   "id": "d6e82c16",
   "metadata": {},
   "outputs": [
    {
     "name": "stdout",
     "output_type": "stream",
     "text": [
      "ECR repository created:\n",
      "322793536920.dkr.ecr.us-east-1.amazonaws.com/book-digitization\n"
     ]
    }
   ],
   "source": [
    "ecr = boto3.client('ecr')\n",
    "\n",
    "response = ecr.create_repository(\n",
    "    repositoryName='book-digitization',\n",
    "    imageScanningConfiguration={'scanOnPush': True},\n",
    "    tags=[{'Key': 'project', 'Value': 'book-digitization'}]\n",
    ")\n",
    "\n",
    "print(\"ECR repository created:\")\n",
    "print(response['repository']['repositoryUri'])\n"
   ]
  },
  {
   "cell_type": "markdown",
   "id": "b0eac530",
   "metadata": {},
   "source": [
    "## Create ECS Task Definition \n",
    "- Tells ECS how to run my container (Docker image, CPU/memory, IAM role, env vars)."
   ]
  },
  {
   "cell_type": "code",
   "execution_count": 7,
   "id": "37390677",
   "metadata": {},
   "outputs": [],
   "source": [
    "ACCOUNT_ID = 322793536920\n",
    "REGION = 'us-east-1'\n",
    "ECR_IMAGE_URI = '322793536920.dkr.ecr.us-east-1.amazonaws.com/book-digitization'\n",
    "CLUSTER_NAME = 'book-digitization-cluster'\n",
    "subnet = 'subnet-01a44828a3a4e64cd' # Subnet: this is where I have a private network with all your computers, servers, and devices connected together in their own isolated environment"
   ]
  },
  {
   "cell_type": "code",
   "execution_count": 14,
   "id": "188bfa50",
   "metadata": {},
   "outputs": [
    {
     "name": "stdout",
     "output_type": "stream",
     "text": [
      "Registered task definition revision: 19\n"
     ]
    }
   ],
   "source": [
    "import boto3\n",
    "\n",
    "ecs = boto3.client('ecs')\n",
    "\n",
    "response = ecs.register_task_definition(\n",
    "    family='book-digitization-task',  # your family name\n",
    "    executionRoleArn='arn:aws:iam::322793536920:role/ecsTaskExecutionRole',\n",
    "    taskRoleArn='arn:aws:iam::322793536920:role/LabRole',\n",
    "    networkMode='awsvpc',\n",
    "    requiresCompatibilities=['FARGATE'],\n",
    "    cpu='1024',\n",
    "    memory='2048',\n",
    "    containerDefinitions=[\n",
    "        {\n",
    "            'name': 'book-digitization-container',\n",
    "            'image': '322793536920.dkr.ecr.us-east-1.amazonaws.com/book-digitization:latest',\n",
    "            'essential': True,\n",
    "            'logConfiguration': {\n",
    "                'logDriver': 'awslogs',\n",
    "                'options': {\n",
    "                    'awslogs-group': '/ecs/book-digitization',\n",
    "                    'awslogs-region': 'us-east-1',\n",
    "                    'awslogs-stream-prefix': 'ecs'\n",
    "                }\n",
    "            }\n",
    "        }\n",
    "    ]\n",
    ")\n",
    "\n",
    "print(\"Registered task definition revision:\", response['taskDefinition']['revision'])\n"
   ]
  },
  {
   "cell_type": "markdown",
   "id": "fc618298",
   "metadata": {},
   "source": [
    "## Create security group in my VPC"
   ]
  },
  {
   "cell_type": "code",
   "execution_count": 8,
   "id": "d1fb90fb",
   "metadata": {},
   "outputs": [
    {
     "name": "stdout",
     "output_type": "stream",
     "text": [
      "Created security group with ID: sg-0f278fd15aed7b093\n"
     ]
    },
    {
     "data": {
      "text/plain": [
       "{'Return': True,\n",
       " 'SecurityGroupRules': [{'SecurityGroupRuleId': 'sgr-03581b59a9a8b79cf',\n",
       "   'GroupId': 'sg-0f278fd15aed7b093',\n",
       "   'GroupOwnerId': '322793536920',\n",
       "   'IsEgress': False,\n",
       "   'IpProtocol': 'tcp',\n",
       "   'FromPort': 22,\n",
       "   'ToPort': 22,\n",
       "   'CidrIpv4': '0.0.0.0/0',\n",
       "   'SecurityGroupRuleArn': 'arn:aws:ec2:us-east-1:322793536920:security-group-rule/sgr-03581b59a9a8b79cf'},\n",
       "  {'SecurityGroupRuleId': 'sgr-090e145bfd6382cae',\n",
       "   'GroupId': 'sg-0f278fd15aed7b093',\n",
       "   'GroupOwnerId': '322793536920',\n",
       "   'IsEgress': False,\n",
       "   'IpProtocol': 'tcp',\n",
       "   'FromPort': 80,\n",
       "   'ToPort': 80,\n",
       "   'CidrIpv4': '0.0.0.0/0',\n",
       "   'SecurityGroupRuleArn': 'arn:aws:ec2:us-east-1:322793536920:security-group-rule/sgr-090e145bfd6382cae'}],\n",
       " 'ResponseMetadata': {'RequestId': '921f3b3f-bbe1-4250-b47d-f6881d187527',\n",
       "  'HTTPStatusCode': 200,\n",
       "  'HTTPHeaders': {'x-amzn-requestid': '921f3b3f-bbe1-4250-b47d-f6881d187527',\n",
       "   'cache-control': 'no-cache, no-store',\n",
       "   'strict-transport-security': 'max-age=31536000; includeSubDomains',\n",
       "   'content-type': 'text/xml;charset=UTF-8',\n",
       "   'content-length': '1100',\n",
       "   'date': 'Fri, 30 May 2025 15:29:28 GMT',\n",
       "   'server': 'AmazonEC2'},\n",
       "  'RetryAttempts': 0}}"
      ]
     },
     "execution_count": 8,
     "metadata": {},
     "output_type": "execute_result"
    }
   ],
   "source": [
    "ec2 = boto3.client('ec2', region_name='us-east-1')\n",
    "\n",
    "response = ec2.create_security_group(\n",
    "    GroupName='book-digitization-sg',\n",
    "    Description='Security group for ECS tasks',\n",
    "    VpcId='vpc-08bfbd1db0fdbb931'\n",
    ")\n",
    "\n",
    "sg_id = response['GroupId']\n",
    "print(f\"Created security group with ID: {sg_id}\")\n",
    "\n",
    "# Optionally, add inbound rules (e.g., allow all outbound, allow SSH, HTTP, etc.)\n",
    "ec2.authorize_security_group_ingress(\n",
    "    GroupId=sg_id,\n",
    "    IpPermissions=[\n",
    "        {\n",
    "            'IpProtocol': 'tcp',\n",
    "            'FromPort': 22,\n",
    "            'ToPort': 22,\n",
    "            'IpRanges': [{'CidrIp': '0.0.0.0/0'}]  # SSH access from anywhere (be cautious!)\n",
    "        },\n",
    "        {\n",
    "            'IpProtocol': 'tcp',\n",
    "            'FromPort': 80,\n",
    "            'ToPort': 80,\n",
    "            'IpRanges': [{'CidrIp': '0.0.0.0/0'}]  # HTTP access if needed\n",
    "        }\n",
    "    ]\n",
    ")\n"
   ]
  },
  {
   "cell_type": "markdown",
   "id": "c13e807d",
   "metadata": {},
   "source": [
    "## Run a Fargate task\n",
    "- Fargate is AWS's serverless container platform. It runs your containerized applications without you managing the underlying servers\n",
    "- This is being run for testing purposes"
   ]
  },
  {
   "cell_type": "code",
   "execution_count": 19,
   "id": "004b839e",
   "metadata": {},
   "outputs": [
    {
     "name": "stdout",
     "output_type": "stream",
     "text": [
      "🚀 Task started: arn:aws:ecs:us-east-1:322793536920:task/book-digitization-cluster/e051f32cc20947a49769828ae1c87c04\n"
     ]
    }
   ],
   "source": [
    "response = ecs.run_task(\n",
    "    cluster='book-digitization-cluster',\n",
    "    launchType='FARGATE',\n",
    "    taskDefinition='book-digitization-task',\n",
    "    count=1,\n",
    "    networkConfiguration={\n",
    "        'awsvpcConfiguration': {\n",
    "            'subnets': ['subnet-01a44828a3a4e64cd'],  # your subnet\n",
    "            'assignPublicIp': 'ENABLED',\n",
    "            'securityGroups': ['sg-0f278fd15aed7b093']  \n",
    "        }\n",
    "    },\n",
    "    overrides={\n",
    "        'containerOverrides': [\n",
    "            {\n",
    "                'name': 'book-digitization-container',\n",
    "                'environment': [\n",
    "                    {\n",
    "                        'name': 'PDF_BATCH_PATH',\n",
    "                        'value': 'mission-to-ashantee-longer/input/mission-from-cape-coast-castle-longer-batch-1.pdf'\n",
    "                    }\n",
    "                ]\n",
    "            }\n",
    "        ]\n",
    "    }\n",
    ")\n",
    "\n",
    "print(\"🚀 Task started:\", response['tasks'][0]['taskArn'])\n"
   ]
  },
  {
   "cell_type": "markdown",
   "id": "7816a490",
   "metadata": {},
   "source": [
    "## Create lambda package zip file \n",
    "- This is needed before I can create the function\n",
    "- One time use"
   ]
  },
  {
   "cell_type": "code",
   "execution_count": 5,
   "id": "b648703c",
   "metadata": {},
   "outputs": [
    {
     "name": "stdout",
     "output_type": "stream",
     "text": [
      "Collecting boto3 (from -r requirements.txt (line 1))\n",
      "  Using cached boto3-1.38.26-py3-none-any.whl.metadata (6.6 kB)\n",
      "Collecting requests (from -r requirements.txt (line 2))\n",
      "  Using cached requests-2.32.3-py3-none-any.whl.metadata (4.6 kB)\n",
      "Collecting pathlib (from -r requirements.txt (line 3))\n",
      "  Using cached pathlib-1.0.1-py3-none-any.whl.metadata (5.1 kB)\n",
      "Collecting PyPDF2 (from -r requirements.txt (line 4))\n",
      "  Using cached pypdf2-3.0.1-py3-none-any.whl.metadata (6.8 kB)\n",
      "Collecting mistralai (from -r requirements.txt (line 5))\n",
      "  Using cached mistralai-1.8.1-py3-none-any.whl.metadata (33 kB)\n",
      "Collecting botocore<1.39.0,>=1.38.26 (from boto3->-r requirements.txt (line 1))\n",
      "  Using cached botocore-1.38.26-py3-none-any.whl.metadata (5.7 kB)\n",
      "Collecting jmespath<2.0.0,>=0.7.1 (from boto3->-r requirements.txt (line 1))\n",
      "  Using cached jmespath-1.0.1-py3-none-any.whl.metadata (7.6 kB)\n",
      "Collecting s3transfer<0.14.0,>=0.13.0 (from boto3->-r requirements.txt (line 1))\n",
      "  Using cached s3transfer-0.13.0-py3-none-any.whl.metadata (1.7 kB)\n",
      "Collecting python-dateutil<3.0.0,>=2.1 (from botocore<1.39.0,>=1.38.26->boto3->-r requirements.txt (line 1))\n",
      "  Using cached python_dateutil-2.9.0.post0-py2.py3-none-any.whl.metadata (8.4 kB)\n",
      "Collecting urllib3!=2.2.0,<3,>=1.25.4 (from botocore<1.39.0,>=1.38.26->boto3->-r requirements.txt (line 1))\n",
      "  Using cached urllib3-2.4.0-py3-none-any.whl.metadata (6.5 kB)\n",
      "Collecting six>=1.5 (from python-dateutil<3.0.0,>=2.1->botocore<1.39.0,>=1.38.26->boto3->-r requirements.txt (line 1))\n",
      "  Using cached six-1.17.0-py2.py3-none-any.whl.metadata (1.7 kB)\n",
      "Collecting charset-normalizer<4,>=2 (from requests->-r requirements.txt (line 2))\n",
      "  Downloading charset_normalizer-3.4.2-cp312-cp312-macosx_10_13_universal2.whl.metadata (35 kB)\n",
      "Collecting idna<4,>=2.5 (from requests->-r requirements.txt (line 2))\n",
      "  Using cached idna-3.10-py3-none-any.whl.metadata (10 kB)\n",
      "Collecting certifi>=2017.4.17 (from requests->-r requirements.txt (line 2))\n",
      "  Using cached certifi-2025.4.26-py3-none-any.whl.metadata (2.5 kB)\n",
      "Collecting eval-type-backport>=0.2.0 (from mistralai->-r requirements.txt (line 5))\n",
      "  Using cached eval_type_backport-0.2.2-py3-none-any.whl.metadata (2.2 kB)\n",
      "Collecting httpx>=0.28.1 (from mistralai->-r requirements.txt (line 5))\n",
      "  Using cached httpx-0.28.1-py3-none-any.whl.metadata (7.1 kB)\n",
      "Collecting pydantic>=2.10.3 (from mistralai->-r requirements.txt (line 5))\n",
      "  Using cached pydantic-2.11.5-py3-none-any.whl.metadata (67 kB)\n",
      "Collecting typing-inspection>=0.4.0 (from mistralai->-r requirements.txt (line 5))\n",
      "  Using cached typing_inspection-0.4.1-py3-none-any.whl.metadata (2.6 kB)\n",
      "Collecting anyio (from httpx>=0.28.1->mistralai->-r requirements.txt (line 5))\n",
      "  Using cached anyio-4.9.0-py3-none-any.whl.metadata (4.7 kB)\n",
      "Collecting httpcore==1.* (from httpx>=0.28.1->mistralai->-r requirements.txt (line 5))\n",
      "  Using cached httpcore-1.0.9-py3-none-any.whl.metadata (21 kB)\n",
      "Collecting h11>=0.16 (from httpcore==1.*->httpx>=0.28.1->mistralai->-r requirements.txt (line 5))\n",
      "  Using cached h11-0.16.0-py3-none-any.whl.metadata (8.3 kB)\n",
      "Collecting annotated-types>=0.6.0 (from pydantic>=2.10.3->mistralai->-r requirements.txt (line 5))\n",
      "  Using cached annotated_types-0.7.0-py3-none-any.whl.metadata (15 kB)\n",
      "Collecting pydantic-core==2.33.2 (from pydantic>=2.10.3->mistralai->-r requirements.txt (line 5))\n",
      "  Using cached pydantic_core-2.33.2-cp312-cp312-macosx_11_0_arm64.whl.metadata (6.8 kB)\n",
      "Collecting typing-extensions>=4.12.2 (from pydantic>=2.10.3->mistralai->-r requirements.txt (line 5))\n",
      "  Using cached typing_extensions-4.13.2-py3-none-any.whl.metadata (3.0 kB)\n",
      "Collecting sniffio>=1.1 (from anyio->httpx>=0.28.1->mistralai->-r requirements.txt (line 5))\n",
      "  Using cached sniffio-1.3.1-py3-none-any.whl.metadata (3.9 kB)\n",
      "Using cached boto3-1.38.26-py3-none-any.whl (139 kB)\n",
      "Using cached botocore-1.38.26-py3-none-any.whl (13.6 MB)\n",
      "Using cached jmespath-1.0.1-py3-none-any.whl (20 kB)\n",
      "Using cached python_dateutil-2.9.0.post0-py2.py3-none-any.whl (229 kB)\n",
      "Using cached s3transfer-0.13.0-py3-none-any.whl (85 kB)\n",
      "Using cached urllib3-2.4.0-py3-none-any.whl (128 kB)\n",
      "Using cached requests-2.32.3-py3-none-any.whl (64 kB)\n",
      "Downloading charset_normalizer-3.4.2-cp312-cp312-macosx_10_13_universal2.whl (199 kB)\n",
      "Using cached idna-3.10-py3-none-any.whl (70 kB)\n",
      "Using cached pathlib-1.0.1-py3-none-any.whl (14 kB)\n",
      "Using cached pypdf2-3.0.1-py3-none-any.whl (232 kB)\n",
      "Using cached mistralai-1.8.1-py3-none-any.whl (373 kB)\n",
      "Using cached certifi-2025.4.26-py3-none-any.whl (159 kB)\n",
      "Using cached eval_type_backport-0.2.2-py3-none-any.whl (5.8 kB)\n",
      "Using cached httpx-0.28.1-py3-none-any.whl (73 kB)\n",
      "Using cached httpcore-1.0.9-py3-none-any.whl (78 kB)\n",
      "Using cached h11-0.16.0-py3-none-any.whl (37 kB)\n",
      "Using cached pydantic-2.11.5-py3-none-any.whl (444 kB)\n",
      "Using cached pydantic_core-2.33.2-cp312-cp312-macosx_11_0_arm64.whl (1.8 MB)\n",
      "Using cached annotated_types-0.7.0-py3-none-any.whl (13 kB)\n",
      "Using cached six-1.17.0-py2.py3-none-any.whl (11 kB)\n",
      "Using cached typing_extensions-4.13.2-py3-none-any.whl (45 kB)\n",
      "Using cached typing_inspection-0.4.1-py3-none-any.whl (14 kB)\n",
      "Using cached anyio-4.9.0-py3-none-any.whl (100 kB)\n",
      "Using cached sniffio-1.3.1-py3-none-any.whl (10 kB)\n",
      "Installing collected packages: pathlib, urllib3, typing-extensions, sniffio, six, PyPDF2, jmespath, idna, h11, eval-type-backport, charset-normalizer, certifi, annotated-types, typing-inspection, requests, python-dateutil, pydantic-core, httpcore, anyio, pydantic, httpx, botocore, s3transfer, mistralai, boto3\n",
      "\u001b[2K   \u001b[38;2;114;156;31m━━━━━━━━━━━━━━━━━━━━━━━━━━━━━━━━━━━━━━━━\u001b[0m \u001b[32m25/25\u001b[0m [boto3];5;237m━━━\u001b[0m \u001b[32m23/25\u001b[0m [mistralai]\n",
      "\u001b[1A\u001b[2KSuccessfully installed PyPDF2-3.0.1 annotated-types-0.7.0 anyio-4.9.0 boto3-1.38.26 botocore-1.38.26 certifi-2025.4.26 charset-normalizer-3.4.2 eval-type-backport-0.2.2 h11-0.16.0 httpcore-1.0.9 httpx-0.28.1 idna-3.10 jmespath-1.0.1 mistralai-1.8.1 pathlib-1.0.1 pydantic-2.11.5 pydantic-core-2.33.2 python-dateutil-2.9.0.post0 requests-2.32.3 s3transfer-0.13.0 six-1.17.0 sniffio-1.3.1 typing-extensions-4.13.2 typing-inspection-0.4.1 urllib3-2.4.0\n"
     ]
    },
    {
     "name": "stderr",
     "output_type": "stream",
     "text": [
      "\u001b[31mERROR: pip's dependency resolver does not currently take into account all the packages that are installed. This behaviour is the source of the following dependency conflicts.\n",
      "aiobotocore 1.2.2 requires botocore<1.19.53,>=1.19.52, but you have botocore 1.38.26 which is incompatible.\n",
      "sparkmagic 0.21.0 requires pandas<2.0.0,>=0.17.1, but you have pandas 2.2.3 which is incompatible.\n",
      "streamlit 1.37.1 requires tenacity<9,>=8.1.0, but you have tenacity 9.1.2 which is incompatible.\u001b[0m\u001b[31m\n",
      "\u001b[0m"
     ]
    },
    {
     "name": "stdout",
     "output_type": "stream",
     "text": [
      "✅ Built lambda_package.zip\n"
     ]
    }
   ],
   "source": [
    "import shutil\n",
    "from pathlib import Path\n",
    "import subprocess\n",
    "\n",
    "# Paths\n",
    "build_dir = Path('lambda_build')\n",
    "src_files = ['lambda_function.py', 'book_digitizer.py']  # Add any other .py files your lambda needs\n",
    "requirements_file = 'requirements.txt'\n",
    "zip_filename = 'lambda_package.zip'\n",
    "\n",
    "# Clean up old build dir and zip if exist\n",
    "if build_dir.exists():\n",
    "    shutil.rmtree(build_dir)\n",
    "if Path(zip_filename).exists():\n",
    "    Path(zip_filename).unlink()\n",
    "\n",
    "# Create build directory\n",
    "build_dir.mkdir()\n",
    "\n",
    "# Copy source files to build dir\n",
    "for f in src_files:\n",
    "    shutil.copy(f, build_dir / f)\n",
    "\n",
    "# Install dependencies to build dir\n",
    "subprocess.check_call([\n",
    "    'pip', 'install', '-r', requirements_file, '--target', str(build_dir)\n",
    "])\n",
    "\n",
    "# Zip build directory contents (all files in build_dir, no top folder)\n",
    "shutil.make_archive(zip_filename.replace('.zip', ''), 'zip', root_dir=build_dir)\n",
    "\n",
    "print(f\"✅ Built {zip_filename}\")\n"
   ]
  },
  {
   "cell_type": "markdown",
   "id": "ea14f322",
   "metadata": {},
   "source": [
    "## Create Lambda function\n",
    "- Only needs to be run once"
   ]
  },
  {
   "cell_type": "code",
   "execution_count": null,
   "id": "fc6357b0",
   "metadata": {},
   "outputs": [
    {
     "ename": "ResourceConflictException",
     "evalue": "An error occurred (ResourceConflictException) when calling the CreateFunction operation: Function already exist: bookDigitizationLambda",
     "output_type": "error",
     "traceback": [
      "\u001b[0;31m---------------------------------------------------------------------------\u001b[0m",
      "\u001b[0;31mResourceConflictException\u001b[0m                 Traceback (most recent call last)",
      "Cell \u001b[0;32mIn[17], line 6\u001b[0m\n\u001b[1;32m      3\u001b[0m \u001b[38;5;28;01mwith\u001b[39;00m \u001b[38;5;28mopen\u001b[39m(\u001b[38;5;124m'\u001b[39m\u001b[38;5;124mlambda_package.zip\u001b[39m\u001b[38;5;124m'\u001b[39m, \u001b[38;5;124m'\u001b[39m\u001b[38;5;124mrb\u001b[39m\u001b[38;5;124m'\u001b[39m) \u001b[38;5;28;01mas\u001b[39;00m f:\n\u001b[1;32m      4\u001b[0m     zipped_code \u001b[38;5;241m=\u001b[39m f\u001b[38;5;241m.\u001b[39mread()\n\u001b[0;32m----> 6\u001b[0m response \u001b[38;5;241m=\u001b[39m lambda_client\u001b[38;5;241m.\u001b[39mcreate_function(\n\u001b[1;32m      7\u001b[0m     FunctionName\u001b[38;5;241m=\u001b[39m\u001b[38;5;124m'\u001b[39m\u001b[38;5;124mbookDigitizationLambda\u001b[39m\u001b[38;5;124m'\u001b[39m,\n\u001b[1;32m      8\u001b[0m     Runtime\u001b[38;5;241m=\u001b[39m\u001b[38;5;124m'\u001b[39m\u001b[38;5;124mpython3.9\u001b[39m\u001b[38;5;124m'\u001b[39m,\n\u001b[1;32m      9\u001b[0m     Role\u001b[38;5;241m=\u001b[39m\u001b[38;5;124mf\u001b[39m\u001b[38;5;124m'\u001b[39m\u001b[38;5;124marn:aws:iam::\u001b[39m\u001b[38;5;132;01m{\u001b[39;00mACCOUNT_ID\u001b[38;5;132;01m}\u001b[39;00m\u001b[38;5;124m:role/LabRole\u001b[39m\u001b[38;5;124m'\u001b[39m, \u001b[38;5;66;03m# TODO Might need to change that when I switch out of my root user\u001b[39;00m\n\u001b[1;32m     10\u001b[0m     Handler\u001b[38;5;241m=\u001b[39m\u001b[38;5;124m'\u001b[39m\u001b[38;5;124mlambda_function.lambda_handler\u001b[39m\u001b[38;5;124m'\u001b[39m,  \n\u001b[1;32m     11\u001b[0m     Code\u001b[38;5;241m=\u001b[39m{\u001b[38;5;124m'\u001b[39m\u001b[38;5;124mZipFile\u001b[39m\u001b[38;5;124m'\u001b[39m: zipped_code},\n\u001b[1;32m     12\u001b[0m     Timeout\u001b[38;5;241m=\u001b[39m\u001b[38;5;241m300\u001b[39m,\n\u001b[1;32m     13\u001b[0m     MemorySize\u001b[38;5;241m=\u001b[39m\u001b[38;5;241m2048\u001b[39m,\n\u001b[1;32m     14\u001b[0m     Publish\u001b[38;5;241m=\u001b[39m\u001b[38;5;28;01mTrue\u001b[39;00m,\n\u001b[1;32m     15\u001b[0m     PackageType\u001b[38;5;241m=\u001b[39m\u001b[38;5;124m'\u001b[39m\u001b[38;5;124mZip\u001b[39m\u001b[38;5;124m'\u001b[39m,\n\u001b[1;32m     16\u001b[0m )\n\u001b[1;32m     18\u001b[0m \u001b[38;5;28mprint\u001b[39m(\u001b[38;5;124m\"\u001b[39m\u001b[38;5;124mLambda created:\u001b[39m\u001b[38;5;124m\"\u001b[39m, response)\n",
      "File \u001b[0;32m~/anaconda3/envs/ocr-digitization-project/lib/python3.12/site-packages/botocore/client.py:570\u001b[0m, in \u001b[0;36mClientCreator._create_api_method.<locals>._api_call\u001b[0;34m(self, *args, **kwargs)\u001b[0m\n\u001b[1;32m    566\u001b[0m     \u001b[38;5;28;01mraise\u001b[39;00m \u001b[38;5;167;01mTypeError\u001b[39;00m(\n\u001b[1;32m    567\u001b[0m         \u001b[38;5;124mf\u001b[39m\u001b[38;5;124m\"\u001b[39m\u001b[38;5;132;01m{\u001b[39;00mpy_operation_name\u001b[38;5;132;01m}\u001b[39;00m\u001b[38;5;124m() only accepts keyword arguments.\u001b[39m\u001b[38;5;124m\"\u001b[39m\n\u001b[1;32m    568\u001b[0m     )\n\u001b[1;32m    569\u001b[0m \u001b[38;5;66;03m# The \"self\" in this scope is referring to the BaseClient.\u001b[39;00m\n\u001b[0;32m--> 570\u001b[0m \u001b[38;5;28;01mreturn\u001b[39;00m \u001b[38;5;28mself\u001b[39m\u001b[38;5;241m.\u001b[39m_make_api_call(operation_name, kwargs)\n",
      "File \u001b[0;32m~/anaconda3/envs/ocr-digitization-project/lib/python3.12/site-packages/botocore/context.py:124\u001b[0m, in \u001b[0;36mwith_current_context.<locals>.decorator.<locals>.wrapper\u001b[0;34m(*args, **kwargs)\u001b[0m\n\u001b[1;32m    122\u001b[0m \u001b[38;5;28;01mif\u001b[39;00m hook:\n\u001b[1;32m    123\u001b[0m     hook()\n\u001b[0;32m--> 124\u001b[0m \u001b[38;5;28;01mreturn\u001b[39;00m func(\u001b[38;5;241m*\u001b[39margs, \u001b[38;5;241m*\u001b[39m\u001b[38;5;241m*\u001b[39mkwargs)\n",
      "File \u001b[0;32m~/anaconda3/envs/ocr-digitization-project/lib/python3.12/site-packages/botocore/client.py:1031\u001b[0m, in \u001b[0;36mBaseClient._make_api_call\u001b[0;34m(self, operation_name, api_params)\u001b[0m\n\u001b[1;32m   1027\u001b[0m     error_code \u001b[38;5;241m=\u001b[39m error_info\u001b[38;5;241m.\u001b[39mget(\u001b[38;5;124m\"\u001b[39m\u001b[38;5;124mQueryErrorCode\u001b[39m\u001b[38;5;124m\"\u001b[39m) \u001b[38;5;129;01mor\u001b[39;00m error_info\u001b[38;5;241m.\u001b[39mget(\n\u001b[1;32m   1028\u001b[0m         \u001b[38;5;124m\"\u001b[39m\u001b[38;5;124mCode\u001b[39m\u001b[38;5;124m\"\u001b[39m\n\u001b[1;32m   1029\u001b[0m     )\n\u001b[1;32m   1030\u001b[0m     error_class \u001b[38;5;241m=\u001b[39m \u001b[38;5;28mself\u001b[39m\u001b[38;5;241m.\u001b[39mexceptions\u001b[38;5;241m.\u001b[39mfrom_code(error_code)\n\u001b[0;32m-> 1031\u001b[0m     \u001b[38;5;28;01mraise\u001b[39;00m error_class(parsed_response, operation_name)\n\u001b[1;32m   1032\u001b[0m \u001b[38;5;28;01melse\u001b[39;00m:\n\u001b[1;32m   1033\u001b[0m     \u001b[38;5;28;01mreturn\u001b[39;00m parsed_response\n",
      "\u001b[0;31mResourceConflictException\u001b[0m: An error occurred (ResourceConflictException) when calling the CreateFunction operation: Function already exist: bookDigitizationLambda"
     ]
    }
   ],
   "source": [
    "# lambda_client = boto3.client('lambda', region_name='us-east-1')\n",
    "\n",
    "# with open('lambda_package.zip', 'rb') as f:\n",
    "#     zipped_code = f.read()\n",
    "\n",
    "# response = lambda_client.create_function(\n",
    "#     FunctionName='bookDigitizationLambda',\n",
    "#     Runtime='python3.9',\n",
    "#     Role=f'arn:aws:iam::{ACCOUNT_ID}:role/LabRole', # TODO Might need to change that when I switch out of my root user\n",
    "#     Handler='lambda_function.lambda_handler',  \n",
    "#     Code={'ZipFile': zipped_code},\n",
    "#     Timeout=300,\n",
    "#     MemorySize=2048,\n",
    "#     Publish=True,\n",
    "#     PackageType='Zip',\n",
    "# )\n",
    "\n",
    "# print(\"Lambda created:\", response)\n"
   ]
  },
  {
   "cell_type": "markdown",
   "id": "c628b96c",
   "metadata": {},
   "source": [
    "## Create bucket for lambda function to be stored "
   ]
  },
  {
   "cell_type": "code",
   "execution_count": 10,
   "id": "12462bd0",
   "metadata": {},
   "outputs": [
    {
     "name": "stdout",
     "output_type": "stream",
     "text": [
      "Bucket 'book-digitization-lambda' created.\n"
     ]
    }
   ],
   "source": [
    "s3 = boto3.client('s3', region_name='us-east-1')\n",
    "\n",
    "bucket_name = 'book-digitization-lambda'\n",
    "\n",
    "s3.create_bucket(\n",
    "    Bucket=bucket_name\n",
    ")\n",
    "print(f\"Bucket '{bucket_name}' created.\")"
   ]
  }
 ],
 "metadata": {
  "kernelspec": {
   "display_name": "ocr-digitization-project",
   "language": "python",
   "name": "python3"
  },
  "language_info": {
   "codemirror_mode": {
    "name": "ipython",
    "version": 3
   },
   "file_extension": ".py",
   "mimetype": "text/x-python",
   "name": "python",
   "nbconvert_exporter": "python",
   "pygments_lexer": "ipython3",
   "version": "3.12.2"
  }
 },
 "nbformat": 4,
 "nbformat_minor": 5
}
