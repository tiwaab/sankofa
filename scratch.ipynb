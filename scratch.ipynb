{
 "cells": [
  {
   "cell_type": "markdown",
   "id": "c4c9322a",
   "metadata": {},
   "source": [
    "## Testing my pipeline"
   ]
  },
  {
   "cell_type": "code",
   "execution_count": 4,
   "id": "2d0ab4b4",
   "metadata": {},
   "outputs": [],
   "source": [
    "%load_ext autoreload\n",
    "%autoreload 2"
   ]
  },
  {
   "cell_type": "code",
   "execution_count": 34,
   "id": "5ba5cfd6",
   "metadata": {},
   "outputs": [
    {
     "name": "stdout",
     "output_type": "stream",
     "text": [
      "✅ Uploaded mission-from-ccc to s3://book-digitization/mission-from-ccc/input/full_book.pdf\n"
     ]
    }
   ],
   "source": [
    "!python main.py --pdf_path '/Users/tiwaabruks/Desktop/Grad School/spring_2025/digital_texts_2/ocr-digitzation-project/input/mission-from-cape-coast-castle-full.pdf'  --book_name 'Mission From CCC'\n",
    "               \n"
   ]
  },
  {
   "cell_type": "code",
   "execution_count": 13,
   "id": "ae6ec9d3",
   "metadata": {},
   "outputs": [],
   "source": [
    "from dotenv import load_dotenv\n",
    "import os\n",
    "load_dotenv()\n",
    "\n",
    "bucket = 'book-digitization'"
   ]
  },
  {
   "cell_type": "code",
   "execution_count": 31,
   "id": "284ea8a5",
   "metadata": {},
   "outputs": [],
   "source": [
    "test_event = {\n",
    "    \"Records\": [\n",
    "        {\n",
    "            \"s3\": {\n",
    "                \"bucket\": {\"name\": bucket},\n",
    "                \"object\": {\"key\": \"mission-from-ccc/input/full_book.pdf\"}\n",
    "            }\n",
    "        }\n",
    "    ]\n",
    "}\n"
   ]
  },
  {
   "cell_type": "code",
   "execution_count": 32,
   "id": "aa64c303",
   "metadata": {},
   "outputs": [
    {
     "name": "stdout",
     "output_type": "stream",
     "text": [
      "Received event: {\"Records\": [{\"s3\": {\"bucket\": {\"name\": \"book-digitization\"}, \"object\": {\"key\": \"mission-from-ccc/input/full_book.pdf\"}}}]}\n",
      "This is the bucket,  book-digitization\n",
      "This is the s3 key:  mission-from-ccc/input/full_book.pdf\n",
      "ECS task started: arn:aws:ecs:us-east-1:322793536920:task/book-digitization-cluster/8683de4ae0674a2c8629740cec145407\n",
      "{'statusCode': 200, 'body': '\"ECS task started successfully\"'}\n"
     ]
    }
   ],
   "source": [
    "from src.lambda_function import lambda_handler\n",
    "\n",
    "response = lambda_handler(test_event, None)\n",
    "print(response)\n"
   ]
  },
  {
   "cell_type": "code",
   "execution_count": null,
   "id": "c6d9fdd0",
   "metadata": {},
   "outputs": [
    {
     "name": "stdout",
     "output_type": "stream",
     "text": [
      "^C\n"
     ]
    }
   ],
   "source": [
    "# !aws logs describe-log-streams --log-group-name \"/aws/lambda/bookDigitizationLambda\" --order-by LastEventTime --descending\n",
    "\n",
    "# !aws logs get-log-events --log-group-name \"/aws/lambda/bookDigitizationLambda\" --log-stream-name \"2025/05/31/[\\$LATEST]e750e907705b48d8a860315430a497dc\"\n",
    "\n",
    "# !aws ecs describe-tasks --cluster book-digitization-cluster --tasks 023e6e34945c426885771dec70928ae0\n",
    "\n",
    "# !aws logs get-log-events --log-group-name \"/ecs/book-digitization\" --log-stream-name \"ecs/book-digitization-container/023e6e34945c426885771dec70928ae0\""
   ]
  },
  {
   "cell_type": "code",
   "execution_count": null,
   "id": "c030ea7a",
   "metadata": {},
   "outputs": [
    {
     "name": "stdout",
     "output_type": "stream",
     "text": [
      "{\n",
      "    \"tasks\": [\n",
      "        {\n",
      "            \"attachments\": [\n",
      "                {\n",
      "                    \"id\": \"222f7938-92cc-425d-9f4e-b37991cd2232\",\n",
      "                    \"type\": \"ElasticNetworkInterface\",\n",
      "                    \"status\": \"ATTACHED\",\n",
      "                    \"details\": [\n",
      "                        {\n",
      "                            \"name\": \"subnetId\",\n",
      "                            \"value\": \"subnet-01a44828a3a4e64cd\"\n",
      "                        },\n",
      "                        {\n",
      "                            \"name\": \"networkInterfaceId\",\n",
      "                            \"value\": \"eni-05a3f411f2907e0ea\"\n",
      "                        },\n",
      "                        {\n",
      "                            \"name\": \"macAddress\",\n",
      "                            \"value\": \"02:9a:f0:ad:bf:db\"\n",
      "                        },\n",
      "                        {\n",
      "                            \"name\": \"privateDnsName\",\n",
      "                            \"value\": \"ip-172-31-4-206.ec2.internal\"\n",
      "                        },\n",
      "                        {\n",
      "                            \"name\": \"privateIPv4Address\",\n",
      "                            \"value\": \"172.31.4.206\"\n",
      "                        }\n",
      "                    ]\n",
      "                }\n",
      "            ],\n",
      "            \"attributes\": [\n",
      "                {\n",
      "                    \"name\": \"ecs.cpu-architecture\",\n",
      "                    \"value\": \"x86_64\"\n",
      "                }\n",
      "            ],\n",
      "            \"availabilityZone\": \"us-east-1d\",\n",
      "            \"clusterArn\": \"arn:aws:ecs:us-east-1:322793536920:cluster/book-digitization-cluster\",\n",
      "            \"connectivity\": \"CONNECTED\",\n",
      "            \"connectivityAt\": \"2025-05-30T23:19:12.047000-05:00\",\n",
      "            \"containers\": [\n",
      "                {\n",
      "                    \"containerArn\": \"arn:aws:ecs:us-east-1:322793536920:container/book-digitization-cluster/99df0a51507a4bb9a3c8a1bd03ae5d67/ffaf094a-e3ac-4722-8566-05cac9ffb855\",\n",
      "                    \"taskArn\": \"arn:aws:ecs:us-east-1:322793536920:task/book-digitization-cluster/99df0a51507a4bb9a3c8a1bd03ae5d67\",\n",
      "                    \"name\": \"book-digitization-container\",\n",
      "                    \"image\": \"322793536920.dkr.ecr.us-east-1.amazonaws.com/book-digitization:latest\",\n",
      "                    \"imageDigest\": \"sha256:d92426e57048025db105ff08c922a71f4190d86c2daf7fd7ebecabcc819b70c5\",\n",
      "                    \"runtimeId\": \"99df0a51507a4bb9a3c8a1bd03ae5d67-2536429074\",\n",
      "                    \"lastStatus\": \"RUNNING\",\n",
      "                    \"networkBindings\": [],\n",
      "                    \"networkInterfaces\": [\n",
      "                        {\n",
      "                            \"attachmentId\": \"222f7938-92cc-425d-9f4e-b37991cd2232\",\n",
      "                            \"privateIpv4Address\": \"172.31.4.206\"\n",
      "                        }\n",
      "                    ],\n",
      "                    \"healthStatus\": \"UNKNOWN\",\n",
      "                    \"cpu\": \"0\"\n",
      "                }\n",
      "            ],\n",
      "            \"cpu\": \"1024\",\n",
      "            \"createdAt\": \"2025-05-30T23:19:08.402000-05:00\",\n",
      "            \"desiredStatus\": \"RUNNING\",\n",
      "            \"enableExecuteCommand\": false,\n",
      "            \"group\": \"family:book-digitization-task\",\n",
      "            \"healthStatus\": \"UNKNOWN\",\n",
      "            \"lastStatus\": \"RUNNING\",\n",
      "            \"launchType\": \"FARGATE\",\n",
      "            \"memory\": \"2048\",\n",
      "            \"overrides\": {\n",
      "                \"containerOverrides\": [\n",
      "                    {\n",
      "                        \"name\": \"book-digitization-container\",\n",
      "                        \"environment\": [\n",
      "                            {\n",
      "                                \"name\": \"S3_BUCKET\",\n",
      "                                \"value\": \"book-digitization\"\n",
      "                            },\n",
      "                            {\n",
      "                                \"name\": \"S3_KEY\",\n",
      "                                \"value\": \"mission-from-ccc/input/full_book.pdf\"\n",
      "                            },\n",
      "                            {\n",
      "                                \"name\": \"BOOK_NAME\",\n",
      "                                \"value\": \"mission-from-ccc\"\n",
      "                            },\n",
      "                            {\n",
      "                                \"name\": \"MISTRAL_API_KEY\",\n",
      "                                \"value\": \"BoObjj03bEsQZ2zjX0fPyFvCdgNTBR2Q\"\n",
      "                            }\n",
      "                        ]\n",
      "                    }\n",
      "                ],\n",
      "                \"inferenceAcceleratorOverrides\": []\n",
      "            },\n",
      "            \"platformVersion\": \"1.4.0\",\n",
      "            \"platformFamily\": \"Linux\",\n",
      "            \"pullStartedAt\": \"2025-05-30T23:19:18.877000-05:00\",\n",
      "            \"pullStoppedAt\": \"2025-05-30T23:19:24.004000-05:00\",\n",
      "            \"startedAt\": \"2025-05-30T23:19:24.639000-05:00\",\n",
      "            \"tags\": [],\n",
      "            \"taskArn\": \"arn:aws:ecs:us-east-1:322793536920:task/book-digitization-cluster/99df0a51507a4bb9a3c8a1bd03ae5d67\",\n",
      "            \"taskDefinitionArn\": \"arn:aws:ecs:us-east-1:322793536920:task-definition/book-digitization-task:6\",\n",
      "            \"version\": 3,\n",
      "            \"ephemeralStorage\": {\n",
      "                \"sizeInGiB\": 20\n",
      "            },\n",
      "            \"fargateEphemeralStorage\": {\n",
      "                \"sizeInGiB\": 20\n",
      "            }\n",
      "        }\n",
      "    ],\n",
      "    \"failures\": []\n",
      "}\n"
     ]
    }
   ],
   "source": [
    "# !aws logs describe-log-streams --log-group-name \"/ecs/book-digitization\" --order-by LastEventTime --descending\n",
    "\n",
    "# !aws logs get-log-events --log-group-name \"/ecs/book-digitization\" --log-stream-name \"ecs/book-digitization-container/f3329dac90cc432f8adde2819b9cf92c\"\n",
    "\n",
    "# !aws logs describe-log-streams --log-group-name \"/ecs/book-digitization\" --order-by LastEventTime --descending | head -5\n",
    "\n",
    "# !aws ecs describe-tasks --cluster book-digitization-cluster --tasks 99df0a51507a4bb9a3c8a1bd03ae5d67\n",
    "\n",
    "# aws logs get-log-events --log-group-name \"/ecs/book-digitization\" --log-stream-name \"ecs/book-digitization-container/99df0a51507a4bb9a3c8a1bd03ae5d67\"\n"
   ]
  }
 ],
 "metadata": {
  "kernelspec": {
   "display_name": "ocr-digitization-project",
   "language": "python",
   "name": "python3"
  },
  "language_info": {
   "codemirror_mode": {
    "name": "ipython",
    "version": 3
   },
   "file_extension": ".py",
   "mimetype": "text/x-python",
   "name": "python",
   "nbconvert_exporter": "python",
   "pygments_lexer": "ipython3",
   "version": "3.12.2"
  }
 },
 "nbformat": 4,
 "nbformat_minor": 5
}
