{
 "cells": [
  {
   "cell_type": "markdown",
   "id": "c4c9322a",
   "metadata": {},
   "source": [
    "## Testing my pipeline"
   ]
  },
  {
   "cell_type": "code",
   "execution_count": 4,
   "id": "2d0ab4b4",
   "metadata": {},
   "outputs": [],
   "source": [
    "%load_ext autoreload\n",
    "%autoreload 2"
   ]
  },
  {
   "cell_type": "code",
   "execution_count": 25,
   "id": "5ba5cfd6",
   "metadata": {},
   "outputs": [
    {
     "name": "stdout",
     "output_type": "stream",
     "text": [
      "✅ Uploaded mission-from-ccc to s3://book-digitization/mission-from-ccc/input/full_book.pdf\n"
     ]
    }
   ],
   "source": [
    "!python main.py --pdf_path '/Users/tiwaabruks/Desktop/Grad School/spring_2025/digital_texts_2/ocr-digitzation-project/input/mission-from-cape-coast-castle-full.pdf'  --book_name 'Mission From CCC'\n",
    "               \n"
   ]
  },
  {
   "cell_type": "code",
   "execution_count": 13,
   "id": "ae6ec9d3",
   "metadata": {},
   "outputs": [],
   "source": [
    "from dotenv import load_dotenv\n",
    "import os\n",
    "load_dotenv()\n",
    "\n",
    "bucket = 'book-digitization'"
   ]
  },
  {
   "cell_type": "code",
   "execution_count": 31,
   "id": "284ea8a5",
   "metadata": {},
   "outputs": [],
   "source": [
    "test_event = {\n",
    "    \"Records\": [\n",
    "        {\n",
    "            \"s3\": {\n",
    "                \"bucket\": {\"name\": bucket},\n",
    "                \"object\": {\"key\": \"mission-from-ccc/input/full_book.pdf\"}\n",
    "            }\n",
    "        }\n",
    "    ]\n",
    "}\n"
   ]
  },
  {
   "cell_type": "code",
   "execution_count": 32,
   "id": "aa64c303",
   "metadata": {},
   "outputs": [
    {
     "name": "stdout",
     "output_type": "stream",
     "text": [
      "Received event: {\"Records\": [{\"s3\": {\"bucket\": {\"name\": \"book-digitization\"}, \"object\": {\"key\": \"mission-from-ccc/input/full_book.pdf\"}}}]}\n",
      "This is the bucket,  book-digitization\n",
      "This is the s3 key:  mission-from-ccc/input/full_book.pdf\n",
      "ECS task started: arn:aws:ecs:us-east-1:322793536920:task/book-digitization-cluster/8683de4ae0674a2c8629740cec145407\n",
      "{'statusCode': 200, 'body': '\"ECS task started successfully\"'}\n"
     ]
    }
   ],
   "source": [
    "from src.lambda_function import lambda_handler\n",
    "\n",
    "response = lambda_handler(test_event, None)\n",
    "print(response)\n"
   ]
  },
  {
   "cell_type": "code",
   "execution_count": null,
   "id": "c6d9fdd0",
   "metadata": {},
   "outputs": [
    {
     "name": "stdout",
     "output_type": "stream",
     "text": [
      "^C\n"
     ]
    }
   ],
   "source": [
    "# !aws logs describe-log-streams --log-group-name \"/aws/lambda/bookDigitizationLambda\" --order-by LastEventTime --descending\n",
    "\n",
    "# !aws logs get-log-events --log-group-name \"/aws/lambda/bookDigitizationLambda\" --log-stream-name \"2025/05/31/[\\$LATEST]e750e907705b48d8a860315430a497dc\"\n",
    "\n",
    "# !aws ecs describe-tasks --cluster book-digitization-cluster --tasks 023e6e34945c426885771dec70928ae0\n",
    "\n",
    "# !aws logs get-log-events --log-group-name \"/ecs/book-digitization\" --log-stream-name \"ecs/book-digitization-container/023e6e34945c426885771dec70928ae0\""
   ]
  },
  {
   "cell_type": "code",
   "execution_count": null,
   "id": "c030ea7a",
   "metadata": {},
   "outputs": [
    {
     "name": "stdout",
     "output_type": "stream",
     "text": [
      "[]\n"
     ]
    }
   ],
   "source": [
    "!aws lambda update-function-configuration --function-name bookDigitizationLambda --environment Variables='{CLUSTER_NAME=book-digitization-cluster,TASK_DEFINITION=book-digitization-task,SUBNETS=\"[\\\"subnet-01a44828a3a4e64cd\\\"]\",SECURITY_GROUPS=\"[\\\"sg-0f278fd15aed7b093\\\"]\",MISTRAL_API_KEY=BoObjj03bEsQZ2zjX0fPyFvCdgNTBR2Q}'\n"
   ]
  }
 ],
 "metadata": {
  "kernelspec": {
   "display_name": "ocr-digitization-project",
   "language": "python",
   "name": "python3"
  },
  "language_info": {
   "codemirror_mode": {
    "name": "ipython",
    "version": 3
   },
   "file_extension": ".py",
   "mimetype": "text/x-python",
   "name": "python",
   "nbconvert_exporter": "python",
   "pygments_lexer": "ipython3",
   "version": "3.12.2"
  }
 },
 "nbformat": 4,
 "nbformat_minor": 5
}
